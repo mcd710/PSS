{
 "cells": [
  {
   "cell_type": "code",
   "execution_count": 1,
   "metadata": {},
   "outputs": [],
   "source": [
    "import numpy as np\n",
    "import matplotlib.pyplot as plt\n",
    "import pandas as pd\n",
    "from scipy.linalg import svd\n",
    "from sklearn import linear_model\n",
    "import pandas as pd\n",
    "import seaborn as sns\n",
    "\n",
    "from scipy.stats import pearsonr\n",
    "\n",
    "sns.set()\n",
    "pd.set_option('display.notebook_repr_html', True)\n",
    "pd.set_option('display.precision', 2)\n",
    "%matplotlib notebook\n",
    "plt.rcParams['figure.figsize'] = 10, 10"
   ]
  },
  {
   "cell_type": "code",
   "execution_count": 2,
   "metadata": {},
   "outputs": [],
   "source": [
    "# MI = pd.read_csv(\"/Users/merieldoyle/Desktop/CK/MI_cleaned.csv\", index_col = [0])\n",
    "MI = pd.read_csv(\"/Users/merieldoyle/Desktop/ckMI/data/MI_cleaned.csv\", index_col = [0])\n",
    "MI = pd.DataFrame(MI)\n",
    "MI_conditions = MI.drop(MI.iloc[:, 90:153], axis = 1)"
   ]
  },
  {
   "cell_type": "markdown",
   "metadata": {},
   "source": [
    "https://stackoverflow.com/questions/52741236/how-to-calculate-p-values-for-pairwise-correlation-of-columns-in-pandas"
   ]
  },
  {
   "cell_type": "code",
   "execution_count": 16,
   "metadata": {},
   "outputs": [
    {
     "name": "stdout",
     "output_type": "stream",
     "text": [
      "8 pedophile_common 17 drugs_common 0.6438900406259355 1.493187157323262e-57\n",
      "8 pedophile_common 26 psycho_common 0.7814473469420684 1.2818431942606634e-22\n",
      "8 pedophile_common 35 gay_common 0.7073371999956053 2.3467476917813975e-17\n",
      "8 pedophile_common 62 trans_common 0.7899783448595191 2.4972131631370012e-28\n",
      "8 pedophile_common 80 dep_common 0.6609991994063624 8.574390365180596e-18\n",
      "8 pedophile_common 89 schizo_common 0.7167336881572732 4.3060062470329835e-22\n",
      "17 drugs_common 8 pedophile_common 0.6438900406259355 1.493187157323262e-57\n",
      "17 drugs_common 26 psycho_common 0.7103943572367748 3.027853154107719e-17\n",
      "17 drugs_common 35 gay_common 0.7221696269842327 3.504912586032894e-18\n",
      "17 drugs_common 80 dep_common 0.7124182294953912 1.4055634120426938e-21\n",
      "17 drugs_common 89 schizo_common 0.6627169221366305 4.9151407601832004e-18\n",
      "26 psycho_common 8 pedophile_common 0.7814473469420684 1.2818431942606634e-22\n",
      "26 psycho_common 17 drugs_common 0.7103943572367748 3.027853154107719e-17\n",
      "26 psycho_common 62 trans_common 0.7333147378230114 1.5596511316972322e-23\n",
      "26 psycho_common 89 schizo_common 0.7837559510125338 1.5319415245137297e-25\n",
      "27 gay_mental 33 gay_wrong 0.6581692281036096 2.776241363418272e-61\n",
      "27 gay_mental 54 trans_mental 0.6982981733511775 9.40450614784877e-21\n",
      "30 gay_genes 57 trans_genes 0.7237654678020844 7.464235437293785e-23\n",
      "31 gay_punish 58 trans_punish 0.6568339092399919 9.101766000167368e-18\n",
      "31 gay_punish 67 obese_punish 0.6009637965439113 6.452919378782801e-27\n",
      "32 gay_control 33 gay_wrong 0.6106269655207991 1.0930696107472926e-50\n",
      "32 gay_control 59 trans_control 0.6530929950746438 1.605619413940521e-17\n",
      "33 gay_wrong 27 gay_mental 0.6581692281036096 2.776241363418272e-61\n",
      "33 gay_wrong 32 gay_control 0.6106269655207991 1.0930696107472926e-50\n",
      "33 gay_wrong 60 trans_wrong 0.6725187484074937 7.698634200197178e-19\n",
      "35 gay_common 8 pedophile_common 0.7073371999956053 2.3467476917813975e-17\n",
      "35 gay_common 17 drugs_common 0.7221696269842327 3.504912586032894e-18\n",
      "35 gay_common 62 trans_common 0.8357439501335421 1.1948875834562342e-35\n",
      "35 gay_common 80 dep_common 0.6255093260822809 4.7159313009891434e-14\n",
      "36 fetish_mental 42 fetish_wrong 0.6011887947042099 1.1861653456789585e-36\n",
      "42 fetish_wrong 36 fetish_mental 0.6011887947042099 1.1861653456789585e-36\n",
      "48 racist_genes 89 schizo_common 0.6834653252262809 1.0130310552345364e-16\n",
      "54 trans_mental 27 gay_mental 0.6982981733511775 9.40450614784877e-21\n",
      "54 trans_mental 60 trans_wrong 0.6533747213500802 1.204168479283249e-63\n",
      "57 trans_genes 30 gay_genes 0.7237654678020844 7.464235437293785e-23\n",
      "58 trans_punish 31 gay_punish 0.6568339092399919 9.101766000167368e-18\n",
      "59 trans_control 32 gay_control 0.6530929950746438 1.605619413940521e-17\n",
      "59 trans_control 60 trans_wrong 0.6658027380647783 7.215804104293208e-67\n",
      "60 trans_wrong 33 gay_wrong 0.6725187484074937 7.698634200197178e-19\n",
      "60 trans_wrong 54 trans_mental 0.6533747213500802 1.204168479283249e-63\n",
      "60 trans_wrong 59 trans_control 0.6658027380647783 7.215804104293208e-67\n",
      "62 trans_common 8 pedophile_common 0.7899783448595191 2.4972131631370012e-28\n",
      "62 trans_common 26 psycho_common 0.7333147378230114 1.5596511316972322e-23\n",
      "62 trans_common 35 gay_common 0.8357439501335421 1.1948875834562342e-35\n",
      "62 trans_common 80 dep_common 0.6670528885041737 1.2058931091899165e-16\n",
      "62 trans_common 89 schizo_common 0.7310099149001267 5.594727950791764e-21\n",
      "67 obese_punish 31 gay_punish 0.6009637965439113 6.452919378782801e-27\n",
      "80 dep_common 8 pedophile_common 0.6609991994063624 8.574390365180596e-18\n",
      "80 dep_common 17 drugs_common 0.7124182294953912 1.4055634120426938e-21\n",
      "80 dep_common 35 gay_common 0.6255093260822809 4.7159313009891434e-14\n",
      "80 dep_common 62 trans_common 0.6670528885041737 1.2058931091899165e-16\n",
      "80 dep_common 89 schizo_common 0.6227172111829881 1.8438829701518785e-52\n",
      "89 schizo_common 8 pedophile_common 0.7167336881572732 4.3060062470329835e-22\n",
      "89 schizo_common 17 drugs_common 0.6627169221366305 4.9151407601832004e-18\n",
      "89 schizo_common 26 psycho_common 0.7837559510125338 1.5319415245137297e-25\n",
      "89 schizo_common 48 racist_genes 0.6834653252262809 1.0130310552345364e-16\n",
      "89 schizo_common 62 trans_common 0.7310099149001267 5.594727950791764e-21\n",
      "89 schizo_common 80 dep_common 0.6227172111829881 1.8438829701518785e-52\n"
     ]
    }
   ],
   "source": [
    "correlation = MI_conditions.corr()\n",
    "corr_col = correlation.columns\n",
    "\n",
    "def pearsonr_pval(x, y):\n",
    "    return pearsonr(x, y)[1]\n",
    "\n",
    "pval = MI_conditions.corr(method = pearsonr_pval)\n",
    "\n",
    "for i in np.arange(0, correlation.shape[0]):\n",
    "    for j in np.arange(0, correlation.shape[1]): \n",
    "        if i != j and correlation.iloc[i, j] > 0.6 and pval.iloc[i, j] < 0.05:\n",
    "            print(i, corr_col[i], j, corr_col[j], correlation.iloc[i, j], pval.iloc[i, j])"
   ]
  },
  {
   "cell_type": "code",
   "execution_count": 14,
   "metadata": {},
   "outputs": [
    {
     "data": {
      "text/plain": [
       "PearsonRResult(statistic=0.6438900406259359, pvalue=1.493187157323262e-57)"
      ]
     },
     "execution_count": 14,
     "metadata": {},
     "output_type": "execute_result"
    }
   ],
   "source": [
    "# hasnan = np.isnan(a) | np.isnan(b)  # union of the isnan masks\n",
    "# y = func(a[~hasnan], b[~hasnan])\n",
    "\n",
    "hasnan = np.isnan(MI_conditions[\"pedophile_common\"]) | np.isnan(MI_conditions[\"drugs_common\"])\n",
    "pearsonr(MI_conditions[\"pedophile_common\"][~hasnan], MI_conditions[\"drugs_common\"][~hasnan])"
   ]
  },
  {
   "cell_type": "code",
   "execution_count": 9,
   "metadata": {},
   "outputs": [
    {
     "name": "stdout",
     "output_type": "stream",
     "text": [
      "(27, 'gay_mental', 33, 'gay_wrong', 0.6581692281036096, 2.776241363418272e-61)\n",
      "(32, 'gay_control', 33, 'gay_wrong', 0.6106269655207991, 1.0930696107472926e-50)\n",
      "(36, 'fetish_mental', 42, 'fetish_wrong', 0.6011887947042099, 1.1861653456789585e-36)\n",
      "(48, 'racist_genes', 89, 'schizo_common', 0.6834653252262809, 1.0130310552345364e-16)\n",
      "(54, 'trans_mental', 60, 'trans_wrong', 0.6533747213500802, 1.204168479283249e-63)\n",
      "(59, 'trans_control', 60, 'trans_wrong', 0.6658027380647783, 7.215804104293208e-67)\n"
     ]
    }
   ],
   "source": [
    "stats = []\n",
    "combos_seen = set()\n",
    "for i in np.arange(0, correlation.shape[0]):\n",
    "    for j in np.arange(0, correlation.shape[1]): \n",
    "        if i != j \\\n",
    "        and correlation.iloc[i, j] > 0.6 \\\n",
    "        and pval.iloc[i, j] < 0.05 \\\n",
    "        and -1 == corr_col[j].find((\"_\" + corr_col[i].split(\"_\")[-1])) \\\n",
    "        and (corr_col[i], corr_col[j]) not in combos_seen:\n",
    "            stats.append((i, corr_col[i], j, corr_col[j], correlation.iloc[i, j], pval.iloc[i, j]))\n",
    "            combos_seen.add((corr_col[i], corr_col[j]))\n",
    "            combos_seen.add((corr_col[j], corr_col[i]))\n",
    " \n",
    "for line in stats:\n",
    "    print(line)"
   ]
  },
  {
   "cell_type": "code",
   "execution_count": 12,
   "metadata": {},
   "outputs": [],
   "source": [
    "# # CHECKING FOR NEGATIVES\n",
    "\n",
    "# corr_var = []\n",
    "# correlation = MI_conditions.corr()\n",
    "# corr_col = correlation.columns\n",
    "\n",
    "# def pearsonr_pval(x,y):\n",
    "#     return pearsonr(x,y)[1]\n",
    "\n",
    "# pval = MI_conditions.corr(method = pearsonr_pval)\n",
    "\n",
    "# for i in np.arange(0, correlation.shape[0]):\n",
    "#     for j in np.arange(0, correlation.shape[1]): \n",
    "#         if i != j and correlation.iloc[i, j] < -0.3 and pval.iloc[i, j] < 0.05:\n",
    "#             print(i, corr_col[i], j, corr_col[j], correlation.iloc[i, j], pval.iloc[i, j])"
   ]
  },
  {
   "cell_type": "code",
   "execution_count": null,
   "metadata": {},
   "outputs": [],
   "source": [
    "# from scipy import stats\n",
    "\n",
    "# df_corr = pd.DataFrame() # Correlation matrix\n",
    "# df_p = pd.DataFrame()  # Matrix of p-values\n",
    "# for x in correlation.columns:\n",
    "#     for y in correlation.columns:\n",
    "#         corr = stats.pearsonr(correlation[x], correlation[y])\n",
    "#         df_corr.loc[x,y] = corr[0]\n",
    "#         df_p.loc[x,y] = corr[1]\n",
    "\n",
    "# df_corr\n",
    "# df_p"
   ]
  }
 ],
 "metadata": {
  "kernelspec": {
   "display_name": "Python 3 (ipykernel)",
   "language": "python",
   "name": "python3"
  },
  "language_info": {
   "codemirror_mode": {
    "name": "ipython",
    "version": 3
   },
   "file_extension": ".py",
   "mimetype": "text/x-python",
   "name": "python",
   "nbconvert_exporter": "python",
   "pygments_lexer": "ipython3",
   "version": "3.9.13"
  }
 },
 "nbformat": 4,
 "nbformat_minor": 4
}
