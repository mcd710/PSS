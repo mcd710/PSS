{
 "cells": [
  {
   "cell_type": "code",
   "execution_count": null,
   "metadata": {},
   "outputs": [],
   "source": [
    "### CHANGE DIRECTORY PATH"
   ]
  },
  {
   "cell_type": "code",
   "execution_count": 42,
   "metadata": {},
   "outputs": [],
   "source": [
    "import numpy as np\n",
    "import matplotlib.pyplot as plt\n",
    "import pandas as pd\n",
    "from scipy.linalg import svd\n",
    "from sklearn import linear_model\n",
    "import pandas as pd\n",
    "import seaborn as sns\n",
    "\n",
    "from scipy.stats import pearsonr\n",
    "\n",
    "sns.set()\n",
    "pd.set_option('display.notebook_repr_html', True)\n",
    "pd.set_option('display.precision', 2)\n",
    "%matplotlib notebook\n",
    "plt.rcParams['figure.figsize'] = 10, 10"
   ]
  },
  {
   "cell_type": "code",
   "execution_count": 43,
   "metadata": {},
   "outputs": [],
   "source": [
    "MI = pd.read_csv(\"/Users/merieldoyle/Desktop/CK/MI_cleaned.csv\", index_col = [0])\n",
    "MI = pd.DataFrame(MI)\n",
    "MI_conditions = MI.drop(MI.iloc[:, 90:153], axis = 1)"
   ]
  },
  {
   "cell_type": "code",
   "execution_count": 44,
   "metadata": {},
   "outputs": [],
   "source": [
    "np.where(MI[\"social_politics\"] == -99), np.where(MI[\"economic_politics\"]== -99) # drop -99 vlues from s and e politics columns \n",
    "drop_pols = [66, 172, 578, 618, 893, 976, 988, 1102] # rows that need to be dropped due to ^condition"
   ]
  },
  {
   "cell_type": "code",
   "execution_count": 148,
   "metadata": {},
   "outputs": [
    {
     "name": "stdout",
     "output_type": "stream",
     "text": [
      "8 pedophile_common 17 drugs_common 0.6438900406259378 1.4931871573234318e-57\n",
      "8 pedophile_common 26 psycho_common 0.7814473469420689 1.2818431942605957e-22\n",
      "8 pedophile_common 35 gay_common 0.7073371999956053 2.346747691781552e-17\n",
      "8 pedophile_common 62 trans_common 0.7899783448595188 2.4972131631369358e-28\n",
      "8 pedophile_common 80 dep_common 0.6609991994063625 8.57439036517954e-18\n",
      "8 pedophile_common 89 schizo_common 0.7167336881572731 4.306006247032907e-22\n",
      "17 drugs_common 8 pedophile_common 0.6438900406259378 1.4931871573234318e-57\n",
      "17 drugs_common 26 psycho_common 0.7103943572367755 3.027853154107422e-17\n",
      "17 drugs_common 35 gay_common 0.7221696269842329 3.504912586032894e-18\n",
      "17 drugs_common 80 dep_common 0.7124182294953915 1.405563412042611e-21\n",
      "17 drugs_common 89 schizo_common 0.6627169221366307 4.9151407601832004e-18\n",
      "26 psycho_common 8 pedophile_common 0.7814473469420689 1.2818431942605957e-22\n",
      "26 psycho_common 17 drugs_common 0.7103943572367755 3.027853154107422e-17\n",
      "26 psycho_common 62 trans_common 0.7333147378230127 1.5596511316973045e-23\n",
      "26 psycho_common 89 schizo_common 0.7837559510125336 1.5319415245136847e-25\n",
      "27 gay_mental 33 gay_wrong 0.6581692281036038 2.776241363418903e-61\n",
      "27 gay_mental 54 trans_mental 0.6982981733511768 9.404506147849522e-21\n",
      "30 gay_genes 57 trans_genes 0.7237654678020842 7.464235437294451e-23\n",
      "31 gay_punish 58 trans_punish 0.6568339092399906 9.101766000166749e-18\n",
      "31 gay_punish 67 obese_punish 0.6009637965439125 6.4529193787846355e-27\n",
      "32 gay_control 33 gay_wrong 0.6106269655207985 1.0930696107471063e-50\n",
      "32 gay_control 59 trans_control 0.6530929950746447 1.605619413940521e-17\n",
      "33 gay_wrong 27 gay_mental 0.6581692281036038 2.776241363418903e-61\n",
      "33 gay_wrong 32 gay_control 0.6106269655207985 1.0930696107471063e-50\n",
      "33 gay_wrong 60 trans_wrong 0.6725187484074948 7.698634200198006e-19\n",
      "35 gay_common 8 pedophile_common 0.7073371999956053 2.346747691781552e-17\n",
      "35 gay_common 17 drugs_common 0.7221696269842329 3.504912586032894e-18\n",
      "35 gay_common 62 trans_common 0.8357439501335423 1.1948875834560953e-35\n",
      "35 gay_common 80 dep_common 0.6255093260822812 4.715931300988722e-14\n",
      "36 fetish_mental 42 fetish_wrong 0.6011887947042117 1.1861653456788575e-36\n",
      "42 fetish_wrong 36 fetish_mental 0.6011887947042117 1.1861653456788575e-36\n",
      "48 racist_genes 89 schizo_common 0.6834653252262818 1.0130310552345237e-16\n",
      "54 trans_mental 27 gay_mental 0.6982981733511768 9.404506147849522e-21\n",
      "54 trans_mental 60 trans_wrong 0.65337472135008 1.2041684792821539e-63\n",
      "57 trans_genes 30 gay_genes 0.7237654678020842 7.464235437294451e-23\n",
      "58 trans_punish 31 gay_punish 0.6568339092399906 9.101766000166749e-18\n",
      "59 trans_control 32 gay_control 0.6530929950746447 1.605619413940521e-17\n",
      "59 trans_control 60 trans_wrong 0.6658027380647786 7.215804104293208e-67\n",
      "60 trans_wrong 33 gay_wrong 0.6725187484074948 7.698634200198006e-19\n",
      "60 trans_wrong 54 trans_mental 0.65337472135008 1.2041684792821539e-63\n",
      "60 trans_wrong 59 trans_control 0.6658027380647786 7.215804104293208e-67\n",
      "62 trans_common 8 pedophile_common 0.7899783448595188 2.4972131631369358e-28\n",
      "62 trans_common 26 psycho_common 0.7333147378230127 1.5596511316973045e-23\n",
      "62 trans_common 35 gay_common 0.8357439501335423 1.1948875834560953e-35\n",
      "62 trans_common 80 dep_common 0.667052888504174 1.2058931091899683e-16\n",
      "62 trans_common 89 schizo_common 0.7310099149001263 5.5947279507913044e-21\n",
      "67 obese_punish 31 gay_punish 0.6009637965439125 6.4529193787846355e-27\n",
      "80 dep_common 8 pedophile_common 0.6609991994063625 8.57439036517954e-18\n",
      "80 dep_common 17 drugs_common 0.7124182294953915 1.405563412042611e-21\n",
      "80 dep_common 35 gay_common 0.6255093260822812 4.715931300988722e-14\n",
      "80 dep_common 62 trans_common 0.667052888504174 1.2058931091899683e-16\n",
      "80 dep_common 89 schizo_common 0.6227172111829881 1.843882970152193e-52\n",
      "89 schizo_common 8 pedophile_common 0.7167336881572731 4.306006247032907e-22\n",
      "89 schizo_common 17 drugs_common 0.6627169221366307 4.9151407601832004e-18\n",
      "89 schizo_common 26 psycho_common 0.7837559510125336 1.5319415245136847e-25\n",
      "89 schizo_common 48 racist_genes 0.6834653252262818 1.0130310552345237e-16\n",
      "89 schizo_common 62 trans_common 0.7310099149001263 5.5947279507913044e-21\n",
      "89 schizo_common 80 dep_common 0.6227172111829881 1.843882970152193e-52\n"
     ]
    }
   ],
   "source": [
    "corr_var = []\n",
    "correlation = MI_conditions.corr()\n",
    "corr_col = correlation.columns\n",
    "pval = MI_conditions.corr(method = pearsonr_pval)\n",
    "\n",
    "def pearsonr_pval(x,y):\n",
    "    return pearsonr(x,y)[1]\n",
    "\n",
    "for i in np.arange(0, correlation.shape[0]):\n",
    "    for j in np.arange(0, correlation.shape[1]): \n",
    "        if i != j and correlation.iloc[i, j] > 0.6 and pval.iloc[i, j] < 0.05:\n",
    "            print(i, corr_col[i], j, corr_col[j], correlation.iloc[i, j], pval.iloc[i, j])\n",
    "        "
   ]
  },
  {
   "cell_type": "code",
   "execution_count": 163,
   "metadata": {},
   "outputs": [
    {
     "name": "stdout",
     "output_type": "stream",
     "text": [
      "(27, 'gay_mental', 33, 'gay_wrong', 0.6581692281036038, 2.776241363418903e-61)\n",
      "(32, 'gay_control', 33, 'gay_wrong', 0.6106269655207985, 1.0930696107471063e-50)\n",
      "(36, 'fetish_mental', 42, 'fetish_wrong', 0.6011887947042117, 1.1861653456788575e-36)\n",
      "(48, 'racist_genes', 89, 'schizo_common', 0.6834653252262818, 1.0130310552345237e-16)\n",
      "(54, 'trans_mental', 60, 'trans_wrong', 0.65337472135008, 1.2041684792821539e-63)\n",
      "(59, 'trans_control', 60, 'trans_wrong', 0.6658027380647786, 7.215804104293208e-67)\n"
     ]
    }
   ],
   "source": [
    "stats = []\n",
    "combos_seen = set()\n",
    "for i in np.arange(0, correlation.shape[0]):\n",
    "    for j in np.arange(0, correlation.shape[1]): \n",
    "        if i != j \\\n",
    "        and correlation.iloc[i, j] > 0.6 \\\n",
    "        and pval.iloc[i, j] < 0.05 \\\n",
    "        and -1 == corr_col[j].find((\"_\" + corr_col[i].split(\"_\")[-1])) \\\n",
    "        and (corr_col[i], corr_col[j]) not in combos_seen:\n",
    "            stats.append((i, corr_col[i], j, corr_col[j], correlation.iloc[i, j], pval.iloc[i, j]))\n",
    "            combos_seen.add((corr_col[i], corr_col[j]))\n",
    "            combos_seen.add((corr_col[j], corr_col[i]))\n",
    " \n",
    "for line in stats:\n",
    "    print(line)"
   ]
  },
  {
   "cell_type": "code",
   "execution_count": null,
   "metadata": {},
   "outputs": [],
   "source": []
  }
 ],
 "metadata": {
  "kernelspec": {
   "display_name": "Python 3",
   "language": "python",
   "name": "python3"
  },
  "language_info": {
   "codemirror_mode": {
    "name": "ipython",
    "version": 3
   },
   "file_extension": ".py",
   "mimetype": "text/x-python",
   "name": "python",
   "nbconvert_exporter": "python",
   "pygments_lexer": "ipython3",
   "version": "3.7.6"
  }
 },
 "nbformat": 4,
 "nbformat_minor": 4
}
